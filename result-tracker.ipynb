{
 "cells": [
  {
   "cell_type": "code",
   "execution_count": 1,
   "id": "83aa654f-1f95-4c31-8539-bf0415a3c915",
   "metadata": {},
   "outputs": [],
   "source": [
    "import os\n",
    " \n",
    "# Open a file\n",
    "path = \"outputs/bg/\"\n",
    "states_dir = os.scandir(path)\n",
    "states = [state.name for state in states_dir]\n",
    "states.sort()"
   ]
  },
  {
   "cell_type": "code",
   "execution_count": 2,
   "id": "64a1e692-c13b-4280-8ef6-28f1815a1e4d",
   "metadata": {},
   "outputs": [
    {
     "name": "stdout",
     "output_type": "stream",
     "text": [
      "['compactness', 'comp50_pp50', 'competitive_reps', 'dem90_pp10', 'dem_gerrymander', 'rep90_pp10', 'rep_gerrymander']\n",
      "\n",
      "\n",
      "AL :  False  counts: [30, 6, 30, 6, 5, 6, 5]\n",
      "AR :  True  counts: [25, 25, 25, 25, 25, 25, 25]\n",
      "AZ :  True  counts: [25, 25, 25, 25, 27, 25, 26]\n",
      "CA :  True  counts: [27, 25, 26, 25, 25, 28, 26]\n",
      "CO :  True  counts: [25, 25, 26, 25, 25, 25, 26]\n",
      "CT :  True  counts: [25, 25, 27, 25, 25, 25, 26]\n",
      "FL :  True  counts: [27, 26, 27, 28, 28, 27, 26]\n",
      "GA :  True  counts: [25, 25, 25, 25, 27, 25, 27]\n",
      "LA :  True  counts: [25, 25, 25, 25, 25, 25, 28]\n",
      "MA :  True  counts: [25, 25, 25, 30, 29, 25, 28]\n",
      "MD :  False  counts: [30, 30, 30, 30, 28, 31, 16]\n",
      "MI :  True  counts: [25, 25, 25, 25, 27, 25, 25]\n",
      "MN :  True  counts: [30, 30, 30, 30, 28, 30, 27]\n",
      "MO :  True  counts: [30, 29, 28, 30, 27, 42, 28]\n",
      "MS :  True  counts: [36, 36, 36, 36, 33, 36, 36]\n",
      "NC :  True  counts: [25, 25, 25, 25, 27, 25, 25]\n",
      "NE :  True  counts: [30, 30, 30, 30, 29, 29, 30]\n",
      "NJ :  True  counts: [36, 36, 33, 36, 35, 36, 33]\n",
      "NM :  True  counts: [30, 30, 30, 28, 25, 28, 28]\n",
      "NY :  True  counts: [30, 27, 33, 26, 26, 29, 27]\n",
      "OH :  True  counts: [25, 31, 30, 28, 27, 27, 27]\n",
      "OK :  True  counts: [30, 29, 28, 25, 28, 30, 28]\n",
      "OR :  True  counts: [36, 36, 35, 36, 36, 36, 34]\n",
      "PA :  True  counts: [30, 30, 29, 29, 25, 31, 30]\n",
      "SC :  True  counts: [30, 30, 28, 30, 28, 30, 27]\n",
      "TX :  True  counts: [29, 25, 29, 31, 29, 25, 27]\n",
      "UT :  True  counts: [30, 30, 30, 30, 26, 30, 30]\n",
      "VA :  True  counts: [30, 28, 29, 29, 29, 31, 28]\n",
      "WA :  True  counts: [28, 33, 27, 35, 26, 26, 26]\n",
      "WI :  True  counts: [25, 25, 28, 25, 28, 25, 25]\n",
      "\n",
      "Matt files that we're fixing\n",
      "IA :  False  counts: [0, 0, 0, 0, 4, 4, 10]\n",
      "KS :  False  counts: [0, 0, 3, 0, 3, 0, 0]\n",
      "IL :  False  counts: [6, 4, 7, 4, 11, 5, 6]\n",
      "Ignored states that have too few districts\n"
     ]
    }
   ],
   "source": [
    "# Open a file\n",
    "objectives = ['compactness','comp50_pp50','competitive_reps','dem90_pp10',\n",
    "                  'dem_gerrymander','rep90_pp10','rep_gerrymander']\n",
    "print(objectives)\n",
    "print(\"\\n\")\n",
    "for state in states:\n",
    "    path = f\"outputs/bg/{state}/\"\n",
    "    state_dir = os.scandir(path)\n",
    "    runs = [run.name[6:-4] for run in state_dir if run.name[-1]=='n' if '25.0k' in run.name]\n",
    "\n",
    "    \n",
    "\n",
    "    objective_counts = [len([run for run in runs if objective in run]) for objective in objectives]\n",
    "    if state not in ['MT', 'ME', 'WY', 'HI', 'AK','ID','IA','KS','IL', 'TN']:\n",
    "        print(f\"{state} :  {min(objective_counts)>= 25}  counts: {objective_counts}\")\n",
    "\n",
    "print(\"\\nMatt files that we're fixing\")\n",
    "for state in ['IA','KS','IL']:\n",
    "    path = f\"outputs/bg/{state}/\"\n",
    "    state_dir = os.scandir(path)\n",
    "    runs = [run.name[6:-4] for run in state_dir if run.name[-1]=='v' if '25.0k' in run.name]\n",
    "    set(runs)\n",
    "    \n",
    "    objective_counts = [len([run for run in runs if objective in run]) for objective in objectives]\n",
    "    if state not in ['MT', 'ME', 'WY', 'HI', 'AK','ID']:\n",
    "        print(f\"{state} :  {min(objective_counts)>= 25}  counts: {objective_counts}\")\n",
    "print(\"Ignored states that have too few districts\")"
   ]
  },
  {
   "cell_type": "code",
   "execution_count": 12,
   "id": "bc1964b3-eff7-40f8-82a8-ad0f23fab992",
   "metadata": {},
   "outputs": [],
   "source": [
    "files = list(directories)"
   ]
  },
  {
   "cell_type": "code",
   "execution_count": 13,
   "id": "5d5c9199-ffaa-4366-aa33-96e691c19586",
   "metadata": {},
   "outputs": [
    {
     "data": {
      "text/plain": [
       "[]"
      ]
     },
     "execution_count": 13,
     "metadata": {},
     "output_type": "execute_result"
    }
   ],
   "source": [
    "IL\tMatt\tworking\t\tMissing 1 comp50_pp50; 7 competitive_reps; 1 dem90_pp10; 11 dem_gerrymander;  2 rep90_pp10; 13 rep_gerrymander\n",
    "KS\tMatt\tworking\t\tMissing 2 competitive_reps; 3 dem_gerrymandert\n",
    "IA\tMatt\tworking\t\tMissing 5 rep_gerrymander"
   ]
  },
  {
   "cell_type": "code",
   "execution_count": 20,
   "id": "b71366aa-3cdb-4266-9e1a-3354ee97f423",
   "metadata": {},
   "outputs": [],
   "source": [
    "files = [file for file in directories]"
   ]
  },
  {
   "cell_type": "code",
   "execution_count": 23,
   "id": "9503e77f-4193-4a52-a9dc-f37a3a52bf75",
   "metadata": {},
   "outputs": [
    {
     "data": {
      "text/plain": [
       "'ME'"
      ]
     },
     "execution_count": 23,
     "metadata": {},
     "output_type": "execute_result"
    }
   ],
   "source": [
    "files[0].name"
   ]
  },
  {
   "cell_type": "code",
   "execution_count": 47,
   "id": "f689f88e-9804-4bca-b8e1-bb3cafa6f47a",
   "metadata": {},
   "outputs": [
    {
     "data": {
      "text/plain": [
       "32512"
      ]
     },
     "execution_count": 47,
     "metadata": {},
     "output_type": "execute_result"
    }
   ],
   "source": [
    "import os\n",
    "os.system(\"squeue -A ravt\")"
   ]
  },
  {
   "cell_type": "code",
   "execution_count": 49,
   "id": "3caa7a72-9524-4a3d-97fd-d1d8b393131a",
   "metadata": {},
   "outputs": [
    {
     "data": {
      "text/plain": [
       "0"
      ]
     },
     "execution_count": 49,
     "metadata": {},
     "output_type": "execute_result"
    }
   ],
   "source": [
    "os.system(\"ls -l\")"
   ]
  },
  {
   "cell_type": "code",
   "execution_count": 50,
   "id": "eb8c0922-1f1f-494f-aa06-6015ba1f6539",
   "metadata": {},
   "outputs": [
    {
     "name": "stdout",
     "output_type": "stream",
     "text": [
      "/bin/bash: squeue: command not found\n"
     ]
    }
   ],
   "source": [
    "!squeue -A ravt"
   ]
  },
  {
   "cell_type": "code",
   "execution_count": 51,
   "id": "fb240446-65b7-400a-9129-fc45b4b11505",
   "metadata": {},
   "outputs": [
    {
     "name": "stdout",
     "output_type": "stream",
     "text": [
      "/bin/bash: sbatch: command not found\n"
     ]
    }
   ],
   "source": [
    "!sbatch --array=25-26 slurm_batch.sh GA rep90_pp10"
   ]
  },
  {
   "cell_type": "code",
   "execution_count": null,
   "id": "4891c844-170a-40f6-a4b2-7384cbaee4fb",
   "metadata": {},
   "outputs": [],
   "source": [
    "squeue -A ravt\n",
    "sbatch --array=1-3 slurm_batch_ten.sh AL dem_gerrymander"
   ]
  },
  {
   "cell_type": "code",
   "execution_count": 29,
   "id": "10a6229f-d1c6-41aa-a9b1-1e15d978ecd3",
   "metadata": {},
   "outputs": [],
   "source": [
    "import matplotlib.pyplot as plt\n",
    "import pandas as pd\n",
    "import json\n",
    "import helper_methods\n",
    "import statistics"
   ]
  },
  {
   "cell_type": "code",
   "execution_count": null,
   "id": "475c27ab-8afb-4eba-addb-6aff5375316c",
   "metadata": {},
   "outputs": [],
   "source": []
  },
  {
   "cell_type": "code",
   "execution_count": 39,
   "id": "1d299c78-18a9-4504-a41c-7ab31e9e5739",
   "metadata": {},
   "outputs": [],
   "source": [
    "def polsby_popper(vector):\n",
    "    #return sum(norm.cdf(8.26*x-3.271) for x in partition['BVAP_ratio'].values()) # 2010 values\n",
    "    return statistics.mean(vector['polsby_popper'].values()) # 2020 values\n",
    "  \n"
   ]
  },
  {
   "cell_type": "code",
   "execution_count": 52,
   "id": "37d8cf50-349f-4c83-95bf-09aad04eade4",
   "metadata": {},
   "outputs": [
    {
     "name": "stdout",
     "output_type": "stream",
     "text": [
      "['comp50_pp50', 'competitive_reps', 'dem90_pp10', 'dem_gerrymander', 'rep90_pp10', 'rep_gerrymander']\n",
      "\n",
      "\n",
      "[6, 30, 6, 5, 6, 5]\n",
      "0.3552108567966839\n",
      "1.0090316023046597\n",
      "0.3971526680108807\n",
      "0.9970809704955236\n",
      "0.3840017231457615\n",
      "0.9932103404046007\n",
      "0.3500628240797308\n",
      "1.0135715734717956\n",
      "0.11046560261845996\n",
      "1.0039225077829896\n",
      "0.1372447909990765\n",
      "1.0026510101531871\n",
      "0.12813075766897838\n",
      "1.0031497134427865\n",
      "0.09996241065152431\n",
      "1.0057424148411578\n",
      "0.30705011933489107\n",
      "1.5767844363201091\n",
      "0.23266907578987486\n",
      "1.7060891312421023\n",
      "0.2871616928087435\n",
      "1.6351715813895877\n",
      "0.25408603358842796\n",
      "1.6357646579942267\n",
      "0.09114327020858776\n",
      "1.7671745912690815\n",
      "0.07678904680050454\n",
      "1.9302316553459062\n",
      "0.12001185300975666\n",
      "1.6703001600876923\n",
      "0.08877193282507197\n",
      "1.8678532381224588\n",
      "0.39607181181753187\n",
      "0.026008061901234853\n",
      "0.3965189390547458\n",
      "0.01015932472881717\n",
      "0.3661525596469526\n",
      "0.008495368810277732\n",
      "0.40250822496007727\n",
      "0.012821852091345991\n",
      "0.11875757880730745\n",
      "0.005401236951418375\n",
      "0.10528545094633641\n",
      "0.005399094244505572\n",
      "0.12321332304986204\n",
      "0.005392024222682168\n",
      "0.1088258466145558\n",
      "0.005384764954300965\n"
     ]
    },
    {
     "data": {
      "image/png": "[encoded data removed]",
      "text/plain": [
       "<Figure size 432x288 with 1 Axes>"
      ]
     },
     "metadata": {
      "needs_background": "light"
     },
     "output_type": "display_data"
    }
   ],
   "source": [
    "# Open a file\n",
    "objectives = ['comp50_pp50','competitive_reps','dem90_pp10',\n",
    "                  'dem_gerrymander','rep90_pp10','rep_gerrymander']\n",
    "print(objectives)\n",
    "print(\"\\n\")\n",
    "\n",
    "for state in ['AL']:\n",
    "    path = f\"outputs/bg/{state}/\"\n",
    "    state_dir = os.scandir(path)\n",
    "    runs = [run.name for run in state_dir if run.name[-1]=='n' if '25.0k' in run.name]\n",
    "    \n",
    "    plt.plot()\n",
    "    print([len([run for run in runs if objective in run]) for objective in objectives])\n",
    "    for objective in objectives:\n",
    "        objective_runs = [run for run in runs if objective in run]\n",
    "        \n",
    "        for i in range(4):\n",
    "            file = path + objective_runs[i]\n",
    "            #print(file)\n",
    "            with open(file) as json_data:\n",
    "                data = json.load(json_data)\n",
    "            x = polsby_popper(data['data'])\n",
    "            y = helper_methods.calculate_dem_prob(data['data'])\n",
    "            print(x)\n",
    "            print(y)\n",
    "            plt.scatter([x],[y], color = 'r')\n",
    "            \n",
    "        \n",
    "#     for run in runs:\n",
    "#         file = path + run\n",
    "#         print(file)\n",
    "#         with open(file) as json_data:\n",
    "#             data = json.load(json_data)\n",
    "#         print(data['data'].keys())\n",
    "#         print(helper_methods.calculate_dem_prob(data['data']))\n",
    "#         print(polsby_popper(data['data']))\n",
    "    #objective_counts = [len([run for run in runs if objecti\n",
    "    #objective_counts = [len([run for run in runs if objective in run]) for objective in objectives]\n",
    "   # if state not in ['MT', 'ME', 'WY', 'HI', 'AK','ID','IA','KS','IL', 'TN']:\n",
    "        #print(f\"{state} :  {min(objective_counts)>= 25}  counts: {objective_counts}\")"
   ]
  },
  {
   "cell_type": "code",
   "execution_count": null,
   "id": "51a600cb-98d1-424b-9aa0-c9a6106b81da",
   "metadata": {},
   "outputs": [],
   "source": []
  },
  {
   "cell_type": "code",
   "execution_count": 38,
   "id": "d4282f4e-91f2-4ac7-bb86-965a36020fad",
   "metadata": {},
   "outputs": [
    {
     "data": {
      "text/plain": [
       "dict_values([0.21906456112735084, 0.511326846081183, 0.3454121932938978, 0.16188793245660416, 0.3462093492235728, 0.3421402108015036, 0.2233097423601254])"
      ]
     },
     "execution_count": 38,
     "metadata": {},
     "output_type": "execute_result"
    }
   ],
   "source": [
    "data['data']['polsby_popper'].values()"
   ]
  },
  {
   "cell_type": "code",
   "execution_count": null,
   "id": "3dfe2625-4404-43c3-be1c-80cd1d0e498f",
   "metadata": {},
   "outputs": [],
   "source": []
  }
 ],
 "metadata": {
  "kernelspec": {
   "display_name": "Python 3",
   "language": "python",
   "name": "python3"
  },
  "language_info": {
   "codemirror_mode": {
    "name": "ipython",
    "version": 3
   },
   "file_extension": ".py",
   "mimetype": "text/x-python",
   "name": "python",
   "nbconvert_exporter": "python",
   "pygments_lexer": "ipython3",
   "version": "3.7.9"
  }
 },
 "nbformat": 4,
 "nbformat_minor": 5
}
